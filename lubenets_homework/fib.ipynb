{
  "cells": [
    {
      "cell_type": "code",
      "execution_count": 3,
      "metadata": {
        "colab": {
          "base_uri": "https://localhost:8080/"
        },
        "id": "jyrEqp0HPYNo",
        "outputId": "a07896e6-b899-47fd-ea26-755edf6b38ce"
      },
      "outputs": [
        {
          "name": "stdout",
          "output_type": "stream",
          "text": [
            "the 20th element is: 6765\n",
            "the program worked for 8.106231689453125e-06 seconds\n",
            "\n",
            "the 20th element is: 6765\n",
            "the program worked for 9.441375732421875e-05 seconds\n"
          ]
        }
      ],
      "source": [
        "import time\n",
        "from functools import lru_cache\n",
        "\n",
        "\n",
        "flag = 1\n",
        "fib_past = 0\n",
        "fib_cur = 1\n",
        "nth_element = None\n",
        "\n",
        "def get_fib(n):\n",
        "    global flag, fib_past, fib_cur, nth_element\n",
        "    if flag < n:\n",
        "        fib_tmp = fib_cur\n",
        "        fib_cur = fib_past + fib_cur\n",
        "        fib_past = fib_tmp\n",
        "        flag += 1\n",
        "        get_fib(n)\n",
        "    else:\n",
        "        nth_element = fib_cur\n",
        "        return\n",
        "\n",
        "@lru_cache()\n",
        "def get_fib_normalno(n):\n",
        "    if n <= 1:\n",
        "        return n\n",
        "    else:\n",
        "        return get_fib_normalno(n - 1) + get_fib_normalno(n - 2)\n",
        "\n",
        "if __name__ == \"__main__\":\n",
        "\n",
        "    num = 20\n",
        "    start = time.time()\n",
        "\n",
        "    get_fib(num)\n",
        "\n",
        "    end1 = time.time()\n",
        "\n",
        "    print(f\"the {num}th element is: {nth_element}\")\n",
        "    print(f\"the program worked for {end1 - start} seconds\")\n",
        "\n",
        "    fibNum = get_fib_normalno(num)\n",
        "    print(f\"\\nthe {num}th element is: {fibNum}\")\n",
        "\n",
        "\n",
        "    end2 = time.time()\n",
        "    print(f\"the program worked for {end2 - end1} seconds\")"
      ]
    }
  ],
  "metadata": {
    "colab": {
      "provenance": []
    },
    "kernelspec": {
      "display_name": ".venv",
      "language": "python",
      "name": "python3"
    },
    "language_info": {
      "name": "python",
      "version": "3.12.3"
    }
  },
  "nbformat": 4,
  "nbformat_minor": 0
}
