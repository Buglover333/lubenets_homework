{
 "cells": [
  {
   "cell_type": "code",
   "execution_count": 1,
   "id": "d72aae2d",
   "metadata": {},
   "outputs": [
    {
     "name": "stdout",
     "output_type": "stream",
     "text": [
      "your number is 316\n"
     ]
    }
   ],
   "source": [
    "import sys\n",
    "\n",
    "def get_range():\n",
    "    user_input = input(\"choose a range (two float or integer numbers separated by a space):\\n\").split(\" \")\n",
    "    try:\n",
    "        user_range = [int(num) for num in [float(num) for num in user_input]]\n",
    "        user_range.sort()\n",
    "        return user_range\n",
    "    except:\n",
    "        print(\"invalid input\")\n",
    "        sys.exit()\n",
    "\n",
    "\n",
    "def guess(lowend, highend):\n",
    "    mid = round(lowend + (highend - lowend)/2)\n",
    "    usr_answer = input(f\"is your number higher than {mid}? (y/n)\\n\")\n",
    "    if usr_answer == \"y\":\n",
    "        return True, mid\n",
    "    elif usr_answer == \"n\":\n",
    "        return False, mid\n",
    "    else:\n",
    "        print(\"invalid input\")\n",
    "        return \"invalid\", \"invalid\"\n",
    "    \n",
    "user_range = get_range()\n",
    "\n",
    "while True:\n",
    "    if abs(user_range[1] - user_range[0]) == 1:\n",
    "        print(f\"your number is {user_range[1]}\")\n",
    "        break \n",
    "    higher, mid = guess(user_range[0], user_range[1])\n",
    "    if higher == \"invalid\":\n",
    "        continue\n",
    "    elif higher:\n",
    "        user_range = [mid, user_range[1]]\n",
    "    elif not higher:\n",
    "        user_range = [user_range[0], mid]\n",
    "    elif higher == \"invalid\":\n",
    "        continue"
   ]
  }
 ],
 "metadata": {
  "kernelspec": {
   "display_name": ".venv",
   "language": "python",
   "name": "python3"
  },
  "language_info": {
   "codemirror_mode": {
    "name": "ipython",
    "version": 3
   },
   "file_extension": ".py",
   "mimetype": "text/x-python",
   "name": "python",
   "nbconvert_exporter": "python",
   "pygments_lexer": "ipython3",
   "version": "3.12.3"
  }
 },
 "nbformat": 4,
 "nbformat_minor": 5
}
