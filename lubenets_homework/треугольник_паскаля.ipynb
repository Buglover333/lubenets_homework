{
 "cells": [
  {
   "cell_type": "code",
   "execution_count": 1,
   "id": "37149538",
   "metadata": {},
   "outputs": [
    {
     "name": "stdout",
     "output_type": "stream",
     "text": [
      "                                           [1]                                            \n",
      "                                          [1, 1]                                          \n",
      "                                        [1, 2, 1]                                         \n",
      "                                       [1, 3, 3, 1]                                       \n",
      "                                     [1, 4, 6, 4, 1]                                      \n",
      "                                   [1, 5, 10, 10, 5, 1]                                   \n",
      "                                 [1, 6, 15, 20, 15, 6, 1]                                 \n",
      "                               [1, 7, 21, 35, 35, 21, 7, 1]                               \n",
      "                             [1, 8, 28, 56, 70, 56, 28, 8, 1]                             \n",
      "                          [1, 9, 36, 84, 126, 126, 84, 36, 9, 1]                          \n",
      "                     [1, 10, 45, 120, 210, 252, 210, 120, 45, 10, 1]                      \n",
      "                   [1, 11, 55, 165, 330, 462, 462, 330, 165, 55, 11, 1]                   \n",
      "                [1, 12, 66, 220, 495, 792, 924, 792, 495, 220, 66, 12, 1]                 \n",
      "            [1, 13, 78, 286, 715, 1287, 1716, 1716, 1287, 715, 286, 78, 13, 1]            \n",
      "        [1, 14, 91, 364, 1001, 2002, 3003, 3432, 3003, 2002, 1001, 364, 91, 14, 1]        \n"
     ]
    }
   ],
   "source": [
    "from math import factorial\n",
    "\n",
    "def binominal(n, k):\n",
    "    return int((factorial(n)) / (factorial(k) * factorial(n-k)))\n",
    "\n",
    "pyramid = []\n",
    "\n",
    "for n in range(15):\n",
    "    row = []\n",
    "    for k in range(0, n +1):\n",
    "        row.append(binominal(n, k))\n",
    "    pyramid.append(row)\n",
    "    print(str(row).center(90))\n",
    "    row = []"
   ]
  }
 ],
 "metadata": {
  "kernelspec": {
   "display_name": ".venv",
   "language": "python",
   "name": "python3"
  },
  "language_info": {
   "codemirror_mode": {
    "name": "ipython",
    "version": 3
   },
   "file_extension": ".py",
   "mimetype": "text/x-python",
   "name": "python",
   "nbconvert_exporter": "python",
   "pygments_lexer": "ipython3",
   "version": "3.12.3"
  }
 },
 "nbformat": 4,
 "nbformat_minor": 5
}
