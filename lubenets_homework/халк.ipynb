{
  "nbformat": 4,
  "nbformat_minor": 0,
  "metadata": {
    "colab": {
      "provenance": []
    },
    "kernelspec": {
      "name": "python3",
      "display_name": "Python 3"
    },
    "language_info": {
      "name": "python"
    }
  },
  "cells": [
    {
      "cell_type": "code",
      "execution_count": 2,
      "metadata": {
        "colab": {
          "base_uri": "https://localhost:8080/"
        },
        "id": "jyrEqp0HPYNo",
        "outputId": "981311ac-9063-4c9d-ba1b-65db8224fcaf"
      },
      "outputs": [
        {
          "output_type": "stream",
          "name": "stdout",
          "text": [
            "Привет а ты хочешь сняться в кино?? (да/нет)\n",
            "да\n",
            "халк или локи? (халк/локи)\n",
            "халк\n",
            "А скока у тебя бицепс в обхвате?\n",
            "40\n",
            "Гуляй, какашка!\n",
            "\n"
          ]
        }
      ],
      "source": [
        "messages = [\"Привет а ты хочешь сняться в кино?? (да/нет)\\n\",\n",
        "            \"Чо ты там мелешь???\\n\",\n",
        "            \"халк или локи? (халк/локи)\\n\",\n",
        "            \"А скока у тебя бицепс в обхвате?\\n\",\n",
        "            \"Гуляй, какашка!\\n\",\n",
        "            \"Ну ты кабан! Принят!\\n\",\n",
        "            \"А ты кого больше любишь маму или папу? (м/п)\\n\",\n",
        "            \"Спроси у папы (я не понял этот пункт)\\n\"\n",
        "            ]\n",
        "\n",
        "dialogue = messages[0]\n",
        "\n",
        "def ask(option):\n",
        "    return input(option).upper()\n",
        "\n",
        "while True:\n",
        "    answer = ask(dialogue)\n",
        "    if answer == \"ДА\":\n",
        "        answer = ask(messages[2])\n",
        "        if answer == \"ХАЛК\":\n",
        "            answer = ask(messages[3])\n",
        "            try:\n",
        "                if int(answer) >= 60:\n",
        "                    print(messages[5])\n",
        "                    break\n",
        "                else:\n",
        "                    print(messages[4])\n",
        "                    break\n",
        "            except:\n",
        "                dialogue = messages[1]\n",
        "        elif answer == \"ЛОКИ\":\n",
        "            answer = ask(messages[6])\n",
        "            if answer == \"П\":\n",
        "                print(messages[4])\n",
        "                break\n",
        "            elif answer == \"М\":\n",
        "                print(messages[7])\n",
        "                break\n",
        "    elif answer == \"НЕТ\":\n",
        "        print(messages[4])\n",
        "        break\n",
        "    else:\n",
        "        dialogue = messages[1]"
      ]
    }
  ]
}