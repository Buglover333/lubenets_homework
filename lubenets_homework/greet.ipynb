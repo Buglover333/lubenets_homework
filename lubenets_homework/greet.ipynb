{
 "cells": [
  {
   "cell_type": "code",
   "execution_count": 2,
   "id": "730c54db",
   "metadata": {},
   "outputs": [
    {
     "data": {
      "text/html": [
       "<pre style=\"white-space:pre;overflow-x:auto;line-height:normal;font-family:Menlo,'DejaVu Sans Mono',consolas,'Courier New',monospace\"><span style=\"color: #800000; text-decoration-color: #800000; font-weight: bold\">Hi, Nikita!</span>\n",
       "</pre>\n"
      ],
      "text/plain": [
       "\u001b[1;31mHi, Nikita!\u001b[0m\n"
      ]
     },
     "metadata": {},
     "output_type": "display_data"
    },
    {
     "data": {
      "text/html": [
       "<pre style=\"white-space:pre;overflow-x:auto;line-height:normal;font-family:Menlo,'DejaVu Sans Mono',consolas,'Courier New',monospace\"><span style=\"color: #008000; text-decoration-color: #008000; font-weight: bold\">nIkItA</span>\n",
       "</pre>\n"
      ],
      "text/plain": [
       "\u001b[1;32mnIkItA\u001b[0m\n"
      ]
     },
     "metadata": {},
     "output_type": "display_data"
    }
   ],
   "source": [
    "from rich import print as rprint\n",
    "\n",
    "def greet(name):\n",
    "    rprint(f\"[bold red]Hi, {name}!\")\n",
    "\n",
    "def change_name(name):\n",
    "    name = name.lower()\n",
    "    new_name = \"\"\n",
    "    flag = 1\n",
    "    for letter in name:\n",
    "        if flag == 1:\n",
    "            new_name = new_name + letter\n",
    "            flag = 2\n",
    "        else:\n",
    "            new_name = new_name + letter.upper()\n",
    "            flag = 1\n",
    "    return new_name\n",
    "\n",
    "if __name__ == \"__my_functions__\":\n",
    "    print(\"you have imported a shitty library\")\n",
    "\n",
    "if __name__ == \"__main__\":\n",
    "    greet(\"Nikita\")\n",
    "    rprint(f'[bold green]{change_name(\"Nikita\")}')"
   ]
  }
 ],
 "metadata": {
  "kernelspec": {
   "display_name": ".venv",
   "language": "python",
   "name": "python3"
  },
  "language_info": {
   "codemirror_mode": {
    "name": "ipython",
    "version": 3
   },
   "file_extension": ".py",
   "mimetype": "text/x-python",
   "name": "python",
   "nbconvert_exporter": "python",
   "pygments_lexer": "ipython3",
   "version": "3.12.3"
  }
 },
 "nbformat": 4,
 "nbformat_minor": 5
}
